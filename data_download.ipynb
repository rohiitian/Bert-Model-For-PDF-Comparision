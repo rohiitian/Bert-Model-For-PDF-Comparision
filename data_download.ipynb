{
  "nbformat": 4,
  "nbformat_minor": 0,
  "metadata": {
    "colab": {
      "provenance": [],
      "toc_visible": true,
      "authorship_tag": "ABX9TyOoMhd0/pOXzzr6Dw3BLaUR",
      "include_colab_link": true
    },
    "kernelspec": {
      "name": "python3",
      "display_name": "Python 3"
    },
    "language_info": {
      "name": "python"
    }
  },
  "cells": [
    {
      "cell_type": "markdown",
      "metadata": {
        "id": "view-in-github",
        "colab_type": "text"
      },
      "source": [
        "<a href=\"https://colab.research.google.com/github/rohiitian/Bert-Model-For-PDF-Comparision/blob/main/data_download.ipynb\" target=\"_parent\"><img src=\"https://colab.research.google.com/assets/colab-badge.svg\" alt=\"Open In Colab\"/></a>"
      ]
    },
    {
      "cell_type": "code",
      "source": [
        "!pip install requests\n"
      ],
      "metadata": {
        "colab": {
          "base_uri": "https://localhost:8080/"
        },
        "id": "IEo2wSfiXe7-",
        "outputId": "55cb74e5-9798-482c-bd4c-d7d4f0cb7d8f"
      },
      "execution_count": 39,
      "outputs": [
        {
          "output_type": "stream",
          "name": "stdout",
          "text": [
            "Requirement already satisfied: requests in /usr/local/lib/python3.10/dist-packages (2.31.0)\n",
            "Requirement already satisfied: charset-normalizer<4,>=2 in /usr/local/lib/python3.10/dist-packages (from requests) (3.3.2)\n",
            "Requirement already satisfied: idna<4,>=2.5 in /usr/local/lib/python3.10/dist-packages (from requests) (3.6)\n",
            "Requirement already satisfied: urllib3<3,>=1.21.1 in /usr/local/lib/python3.10/dist-packages (from requests) (2.0.7)\n",
            "Requirement already satisfied: certifi>=2017.4.17 in /usr/local/lib/python3.10/dist-packages (from requests) (2024.2.2)\n"
          ]
        }
      ]
    },
    {
      "cell_type": "code",
      "source": [
        "import requests,time\n",
        "import pandas as pd\n",
        "from datetime import datetime\n",
        "\n",
        "def datetotimestamp(data):\n",
        "  time_tupple = date.timetuple()\n",
        "  timestamp = round(time.mktime(time_tupple))\n",
        "  return timestamp\n",
        "\n",
        "def timestamptodate(timestamp):\n",
        "  return datetime.fromtimestamp(timestamp)\n",
        "\n",
        "start=datetotimestamp(datetime(2023,1,1))\n",
        "end =datetotimestamp(datetime.today())\n",
        "url = 'https://priceapi.moneycontrol.com//techCharts/indianMarket/index/history?symbol=in%3Bnbx&resolution=3&from='+str(start)+'&to='+str(end)+'&countback=10000&currencyCode=INR'\n",
        "url2 = 'https://priceapi.moneycontrol.com//techCharts/indianMarket/index/history?symbol=in%3Bnbx&resolution=3&from=1711588728&to=1711806057&countback=328&currencyCode=INR'\n",
        "print(url)\n",
        "\n",
        "resp = requests.get(url)\n",
        "print(resp.status_code)\n",
        "print(resp.headers)\n",
        "\n",
        "if resp.status_code == 200:\n",
        "  data = resp.json()\n",
        "  print(data)\n",
        "  date=[]\n",
        "  for dt in data['t']:\n",
        "    date.append({'Date':timestamptodate(dt)})\n",
        "else:\n",
        "  print(\"Error:\", resp.status_code)\n",
        "\n",
        "\n",
        "\n"
      ],
      "metadata": {
        "colab": {
          "base_uri": "https://localhost:8080/"
        },
        "id": "Ec2HImmzbkCq",
        "outputId": "8416f30e-5e6c-4264-ba77-11073435b2ca"
      },
      "execution_count": 60,
      "outputs": [
        {
          "output_type": "stream",
          "name": "stdout",
          "text": [
            "https://priceapi.moneycontrol.com//techCharts/indianMarket/index/history?symbol=in%3Bnbx&resolution=3&from=1711803481&to=1711803481&countback=10000&currencyCode=INR\n",
            "403\n",
            "{'Server': 'AkamaiGHost', 'Mime-Version': '1.0', 'Content-Type': 'text/html', 'Content-Length': '433', 'Expires': 'Sat, 30 Mar 2024 13:32:30 GMT', 'Date': 'Sat, 30 Mar 2024 13:32:30 GMT', 'Connection': 'close', 'Access-Control-Max-Age': '86400', 'Access-Control-Allow-Credentials': 'false', 'Access-Control-Allow-Headers': '*', 'Access-Control-Allow-Methods': 'GET,POST,OPTIONS', 'Access-Control-Allow-Origin': '*'}\n",
            "Error: 403\n"
          ]
        }
      ]
    }
  ]
}