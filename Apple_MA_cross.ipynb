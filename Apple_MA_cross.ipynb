{
  "nbformat": 4,
  "nbformat_minor": 0,
  "metadata": {
    "colab": {
      "provenance": [],
      "toc_visible": true,
      "authorship_tag": "ABX9TyO8hQoUFLYIztO9cSwuzbsT",
      "include_colab_link": true
    },
    "kernelspec": {
      "name": "python3",
      "display_name": "Python 3"
    },
    "language_info": {
      "name": "python"
    }
  },
  "cells": [
    {
      "cell_type": "markdown",
      "metadata": {
        "id": "view-in-github",
        "colab_type": "text"
      },
      "source": [
        "<a href=\"https://colab.research.google.com/github/rohiitian/Bert-Model-For-PDF-Comparision/blob/main/Apple_MA_cross.ipynb\" target=\"_parent\"><img src=\"https://colab.research.google.com/assets/colab-badge.svg\" alt=\"Open In Colab\"/></a>"
      ]
    },
    {
      "cell_type": "code",
      "execution_count": 2,
      "metadata": {
        "colab": {
          "base_uri": "https://localhost:8080/"
        },
        "id": "OluUN59gGh_L",
        "outputId": "aac6d742-c4ec-4961-be98-98e864a4a2c9"
      },
      "outputs": [
        {
          "output_type": "stream",
          "name": "stdout",
          "text": [
            "Rohit Sharama\n"
          ]
        }
      ],
      "source": [
        "print(\"Rohit Sharama\")"
      ]
    },
    {
      "cell_type": "code",
      "source": [
        "pip install backtrader\n"
      ],
      "metadata": {
        "colab": {
          "base_uri": "https://localhost:8080/"
        },
        "id": "ijKa7IUGG2O0",
        "outputId": "8e85f7d5-e176-4a8d-f6aa-916f2351ac23"
      },
      "execution_count": 3,
      "outputs": [
        {
          "output_type": "stream",
          "name": "stdout",
          "text": [
            "Collecting backtrader\n",
            "  Downloading backtrader-1.9.78.123-py2.py3-none-any.whl (419 kB)\n",
            "\u001b[2K     \u001b[90m━━━━━━━━━━━━━━━━━━━━━━━━━━━━━━━━━━━━━━━━\u001b[0m \u001b[32m419.5/419.5 kB\u001b[0m \u001b[31m3.3 MB/s\u001b[0m eta \u001b[36m0:00:00\u001b[0m\n",
            "\u001b[?25hInstalling collected packages: backtrader\n",
            "Successfully installed backtrader-1.9.78.123\n"
          ]
        }
      ]
    },
    {
      "cell_type": "code",
      "source": [
        "pip install yfinance\n"
      ],
      "metadata": {
        "colab": {
          "base_uri": "https://localhost:8080/"
        },
        "id": "XpWqex1XJIl6",
        "outputId": "aa7b5de8-0a14-46b2-e878-ffd04a2f8e7f"
      },
      "execution_count": 12,
      "outputs": [
        {
          "output_type": "stream",
          "name": "stdout",
          "text": [
            "Requirement already satisfied: yfinance in /usr/local/lib/python3.10/dist-packages (0.2.37)\n",
            "Requirement already satisfied: pandas>=1.3.0 in /usr/local/lib/python3.10/dist-packages (from yfinance) (1.5.3)\n",
            "Requirement already satisfied: numpy>=1.16.5 in /usr/local/lib/python3.10/dist-packages (from yfinance) (1.25.2)\n",
            "Requirement already satisfied: requests>=2.31 in /usr/local/lib/python3.10/dist-packages (from yfinance) (2.31.0)\n",
            "Requirement already satisfied: multitasking>=0.0.7 in /usr/local/lib/python3.10/dist-packages (from yfinance) (0.0.11)\n",
            "Requirement already satisfied: lxml>=4.9.1 in /usr/local/lib/python3.10/dist-packages (from yfinance) (4.9.4)\n",
            "Requirement already satisfied: appdirs>=1.4.4 in /usr/local/lib/python3.10/dist-packages (from yfinance) (1.4.4)\n",
            "Requirement already satisfied: pytz>=2022.5 in /usr/local/lib/python3.10/dist-packages (from yfinance) (2023.4)\n",
            "Requirement already satisfied: frozendict>=2.3.4 in /usr/local/lib/python3.10/dist-packages (from yfinance) (2.4.0)\n",
            "Requirement already satisfied: peewee>=3.16.2 in /usr/local/lib/python3.10/dist-packages (from yfinance) (3.17.1)\n",
            "Requirement already satisfied: beautifulsoup4>=4.11.1 in /usr/local/lib/python3.10/dist-packages (from yfinance) (4.12.3)\n",
            "Requirement already satisfied: html5lib>=1.1 in /usr/local/lib/python3.10/dist-packages (from yfinance) (1.1)\n",
            "Requirement already satisfied: soupsieve>1.2 in /usr/local/lib/python3.10/dist-packages (from beautifulsoup4>=4.11.1->yfinance) (2.5)\n",
            "Requirement already satisfied: six>=1.9 in /usr/local/lib/python3.10/dist-packages (from html5lib>=1.1->yfinance) (1.16.0)\n",
            "Requirement already satisfied: webencodings in /usr/local/lib/python3.10/dist-packages (from html5lib>=1.1->yfinance) (0.5.1)\n",
            "Requirement already satisfied: python-dateutil>=2.8.1 in /usr/local/lib/python3.10/dist-packages (from pandas>=1.3.0->yfinance) (2.8.2)\n",
            "Requirement already satisfied: charset-normalizer<4,>=2 in /usr/local/lib/python3.10/dist-packages (from requests>=2.31->yfinance) (3.3.2)\n",
            "Requirement already satisfied: idna<4,>=2.5 in /usr/local/lib/python3.10/dist-packages (from requests>=2.31->yfinance) (3.6)\n",
            "Requirement already satisfied: urllib3<3,>=1.21.1 in /usr/local/lib/python3.10/dist-packages (from requests>=2.31->yfinance) (2.0.7)\n",
            "Requirement already satisfied: certifi>=2017.4.17 in /usr/local/lib/python3.10/dist-packages (from requests>=2.31->yfinance) (2024.2.2)\n"
          ]
        }
      ]
    },
    {
      "cell_type": "code",
      "source": [
        "import yfinance as yf\n",
        "\n",
        "# Define the ticker symbol and the start and end dates\n",
        "ticker_symbol = 'AAPL'\n",
        "start_date = '2010-01-01'\n",
        "end_date = '2020-12-31'\n",
        "\n",
        "# Fetch historical data from Yahoo Finance\n",
        "data = yf.download(ticker_symbol, start=start_date, end=end_date)\n",
        "\n",
        "# Save the data to a CSV file\n",
        "data.to_csv(f'{ticker_symbol}.csv')\n"
      ],
      "metadata": {
        "colab": {
          "base_uri": "https://localhost:8080/"
        },
        "id": "dDBJIYcJJRgE",
        "outputId": "43fef7d5-dad7-42fc-d3e9-78be9a9894b6"
      },
      "execution_count": 13,
      "outputs": [
        {
          "output_type": "stream",
          "name": "stderr",
          "text": [
            "\r[*********************100%%**********************]  1 of 1 completed\n"
          ]
        }
      ]
    },
    {
      "cell_type": "code",
      "source": [
        "import datetime\n",
        "import backtrader as bt\n",
        "\n",
        "class SimpleMovingAverageStrategy(bt.Strategy):\n",
        "    params = (\n",
        "        ('fast', 50),\n",
        "        ('slow', 200),\n",
        "    )\n",
        "\n",
        "    def __init__(self):\n",
        "        self.fast_sma = bt.indicators.SimpleMovingAverage(self.data, period=self.params.fast)\n",
        "        self.slow_sma = bt.indicators.SimpleMovingAverage(self.data, period=self.params.slow)\n",
        "        self.crossover = bt.indicators.CrossOver(self.fast_sma, self.slow_sma)\n",
        "\n",
        "    def next(self):\n",
        "        if self.position.size == 0 and self.crossover > 0:\n",
        "            self.buy()\n",
        "\n",
        "        if self.position.size > 0 and self.crossover < 0:\n",
        "            self.close()\n",
        "\n",
        "if __name__ == '__main__':\n",
        "    cerebro = bt.Cerebro()\n",
        "    cerebro.addstrategy(SimpleMovingAverageStrategy)\n",
        "\n",
        "    # Add a data feed for testing using the CSV file\n",
        "    data = bt.feeds.GenericCSVData(\n",
        "        dataname='AAPL.csv',\n",
        "        fromdate=datetime.datetime(2010, 1, 1),\n",
        "        todate=datetime.datetime(2020, 12, 31),\n",
        "        nullvalue=0.0,\n",
        "        dtformat=('%Y-%m-%d'),\n",
        "        datetime=0,\n",
        "        high=1,\n",
        "        low=2,\n",
        "        open=3,\n",
        "        close=4,\n",
        "        volume=5,\n",
        "        openinterest=-1\n",
        "    )\n",
        "\n",
        "    cerebro.adddata(data)\n",
        "\n",
        "    cerebro.broker.set_cash(100000)\n",
        "    cerebro.addsizer(bt.sizers.PercentSizer, percents=10)\n",
        "\n",
        "    print('Starting Portfolio Value: %.2f' % cerebro.broker.getvalue())\n",
        "\n",
        "    cerebro.run()\n",
        "\n",
        "    print('Final Portfolio Value: %.2f' % cerebro.broker.getvalue())\n"
      ],
      "metadata": {
        "colab": {
          "base_uri": "https://localhost:8080/"
        },
        "id": "YJjZLElfJUHg",
        "outputId": "0b1fd8e2-61f0-42fc-d428-b14aacf0e547"
      },
      "execution_count": 14,
      "outputs": [
        {
          "output_type": "stream",
          "name": "stdout",
          "text": [
            "Starting Portfolio Value: 100000.00\n",
            "Final Portfolio Value: 128790.49\n"
          ]
        }
      ]
    }
  ]
}